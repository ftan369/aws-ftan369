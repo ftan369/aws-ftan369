{
 "cells": [
  {
   "cell_type": "code",
   "execution_count": 1,
   "metadata": {},
   "outputs": [],
   "source": [
    "# All packages required for the data cleaning and model for the predicting of the flight delays\n",
    "\n",
    "#Packages required for the cleaning data\n",
    "import findspark\n",
    "findspark.init('/home/ubuntu/spark-2.1.1-bin-hadoop2.7')\n",
    "import pyspark\n",
    "from pyspark.sql import SparkSession\n",
    "spark = SparkSession.builder.appName('basics').getOrCreate()\n",
    "spark = SparkSession.builder.appName('missing').getOrCreate() # for cleaning data\n",
    "spark = SparkSession.builder.appName('linear_regression_adv').getOrCreate()\n",
    "spark = SparkSession.builder.appName('linear_regression_docs').getOrCreate()\n",
    "from pyspark.ml.regression import LinearRegression\n",
    "#Packages import for data exploration and cleaning\n",
    "import pandas as pd\n",
    "import numpy as np\n",
    "from matplotlib import pyplot as plt\n",
    "import seaborn as sns\n",
    "from pyspark.sql.functions import isnan\n",
    "from pyspark.sql.functions import col, sum\n",
    "\n",
    "#Some of the packages need for model\n",
    "#from pyspark.sql import *\n",
    "#spark = SparkSession.builder.appName('logistics_regression_')"
   ]
  },
  {
   "cell_type": "code",
   "execution_count": 2,
   "metadata": {},
   "outputs": [],
   "source": [
    "# Importing dataset of the flight delays in 2009, dataset contains its own headings\n",
    "df = spark.read.csv('DelayedFlight.csv', header=True, inferSchema=True)\n"
   ]
  },
  {
   "cell_type": "code",
   "execution_count": 3,
   "metadata": {
    "scrolled": true
   },
   "outputs": [
    {
     "name": "stdout",
     "output_type": "stream",
     "text": [
      "+---+----+-----+----------+---------+-------+----------+-------+----------+-------------+---------+-------+-----------------+--------------+-------+--------+--------+------+----+--------+------+-------+---------+----------------+------------+------------+--------+-------------+-----------------+\n",
      "| ID|Year|Month|DayofMonth|DayOfWeek|DepTime|CRSDepTime|ArrTime|CRSArrTime|UniqueCarrier|FlightNum|TailNum|ActualElapsedTime|CRSElapsedTime|AirTime|ArrDelay|DepDelay|Origin|Dest|Distance|TaxiIn|TaxiOut|Cancelled|CancellationCode|CarrierDelay|WeatherDelay|NASDelay|SecurityDelay|LateAircraftDelay|\n",
      "+---+----+-----+----------+---------+-------+----------+-------+----------+-------------+---------+-------+-----------------+--------------+-------+--------+--------+------+----+--------+------+-------+---------+----------------+------------+------------+--------+-------------+-----------------+\n",
      "|  0|2009|    1|         3|        4|   2003|      1955|   2211|      2225|           WN|      335| N712SW|              128|           150|    116|     -14|       8|   IAD| TPA|     810|     4|      8|        0|               N|        null|        null|    null|         null|             null|\n",
      "+---+----+-----+----------+---------+-------+----------+-------+----------+-------------+---------+-------+-----------------+--------------+-------+--------+--------+------+----+--------+------+-------+---------+----------------+------------+------------+--------+-------------+-----------------+\n",
      "only showing top 1 row\n",
      "\n",
      "Total data points: 183527\n"
     ]
    }
   ],
   "source": [
    "# As shown in the exploration of this dataset, it contains a lot of null values including the target variables got null values\n",
    "df.show(1) #just show five rows\n",
    "# Number of data points in the data set\n",
    "print(\"Total data points:\", df.count())"
   ]
  },
  {
   "cell_type": "code",
   "execution_count": null,
   "metadata": {},
   "outputs": [],
   "source": []
  },
  {
   "cell_type": "code",
   "execution_count": 4,
   "metadata": {
    "scrolled": true
   },
   "outputs": [
    {
     "name": "stdout",
     "output_type": "stream",
     "text": [
      "+---+----+-----+----------+---------+-------+----------+-------+----------+-------------+---------+-------+-----------------+--------------+-------+--------+--------+------+----+--------+------+-------+---------+----------------+------------+------------+--------+-------------+-----------------+\n",
      "| ID|Year|Month|DayofMonth|DayOfWeek|DepTime|CRSDepTime|ArrTime|CRSArrTime|UniqueCarrier|FlightNum|TailNum|ActualElapsedTime|CRSElapsedTime|AirTime|ArrDelay|DepDelay|Origin|Dest|Distance|TaxiIn|TaxiOut|Cancelled|CancellationCode|CarrierDelay|WeatherDelay|NASDelay|SecurityDelay|LateAircraftDelay|\n",
      "+---+----+-----+----------+---------+-------+----------+-------+----------+-------------+---------+-------+-----------------+--------------+-------+--------+--------+------+----+--------+------+-------+---------+----------------+------------+------------+--------+-------------+-----------------+\n",
      "|0.0| 0.0|  0.0|       0.0|      0.0|    0.0|       0.0|  612.0|       0.0|          0.0|      0.0|    0.0|            612.0|          35.0|  612.0|   612.0|     0.0|   0.0| 0.0|     0.0| 612.0|    0.0|      0.0|             0.0|     62741.0|     62741.0| 62741.0|      62741.0|          62741.0|\n",
      "+---+----+-----+----------+---------+-------+----------+-------+----------+-------------+---------+-------+-----------------+--------------+-------+--------+--------+------+----+--------+------+-------+---------+----------------+------------+------------+--------+-------------+-----------------+\n",
      "\n"
     ]
    }
   ],
   "source": [
    "#This code shows the summary of all the missing values in each field\n",
    "from pyspark.sql.functions import lit\n",
    "rows = df.count() \n",
    "summary = df.describe().filter(col(\"summary\") == \"count\") \n",
    "summary.select(*((lit(rows)-col(c)).alias(c) for c in df.columns)).show()"
   ]
  },
  {
   "cell_type": "markdown",
   "metadata": {},
   "source": [
    "## Data Cleaning"
   ]
  },
  {
   "cell_type": "code",
   "execution_count": 5,
   "metadata": {},
   "outputs": [
    {
     "name": "stdout",
     "output_type": "stream",
     "text": [
      "Total data points: 120786\n"
     ]
    }
   ],
   "source": [
    "# 'na' stands for Not Available. Using na, we can then use drop.  \n",
    "df = df.na.drop()\n",
    "\n",
    "# Let's see how many rows of data we have now. \n",
    "print(\"Total data points:\", df.count())\n"
   ]
  },
  {
   "cell_type": "code",
   "execution_count": 6,
   "metadata": {},
   "outputs": [
    {
     "data": {
      "text/plain": [
       "0"
      ]
     },
     "execution_count": 6,
     "metadata": {},
     "output_type": "execute_result"
    }
   ],
   "source": [
    "df.filter(df.ArrDelay.isNull()).count()#count of null values in the target variable \"ArrDelay\""
   ]
  },
  {
   "cell_type": "code",
   "execution_count": 7,
   "metadata": {},
   "outputs": [
    {
     "data": {
      "text/plain": [
       "120786"
      ]
     },
     "execution_count": 7,
     "metadata": {},
     "output_type": "execute_result"
    }
   ],
   "source": [
    "df.filter(df.ArrDelay.isNotNull()).count()"
   ]
  },
  {
   "cell_type": "code",
   "execution_count": 8,
   "metadata": {
    "scrolled": true
   },
   "outputs": [
    {
     "name": "stdout",
     "output_type": "stream",
     "text": [
      "+-------+------------------+-----------------+------------------+------------------+------------------+------------------+\n",
      "|summary|          ArrDelay|         DepDelay|      CarrierDelay| LateAircraftDelay|          NASDelay|      WeatherDelay|\n",
      "+-------+------------------+-----------------+------------------+------------------+------------------+------------------+\n",
      "|  count|            120786|           120786|            120786|            120786|            120786|            120786|\n",
      "|   mean| 63.04713294587121|59.16849634891461|19.354469888894407|25.652600466941532|14.407298859139305|3.5300531518553475|\n",
      "| stddev|59.142071303111976|57.85968189457667|42.468740186721114| 41.65849285132601| 33.92247559511985| 21.53771286273278|\n",
      "|    min|                15|                6|                 0|                 0|                 0|                 0|\n",
      "|    max|              1525|             1355|              1158|               897|              1357|              1049|\n",
      "+-------+------------------+-----------------+------------------+------------------+------------------+------------------+\n",
      "\n"
     ]
    }
   ],
   "source": [
    "# To show the summary statistics of target attribute is \"ArrDelay\" and other variables correlated attributes.\n",
    "df.describe('ArrDelay', 'DepDelay', 'CarrierDelay', 'LateAircraftDelay', 'NASDelay', 'WeatherDelay').show()"
   ]
  },
  {
   "cell_type": "code",
   "execution_count": 9,
   "metadata": {},
   "outputs": [
    {
     "name": "stdout",
     "output_type": "stream",
     "text": [
      "+---+----+-----+----------+---------+-------+----------+-------+----------+-------------+---------+-------+-----------------+--------------+-------+--------+--------+------+----+--------+------+-------+---------+----------------+------------+------------+--------+-------------+-----------------+\n",
      "| ID|Year|Month|DayofMonth|DayOfWeek|DepTime|CRSDepTime|ArrTime|CRSArrTime|UniqueCarrier|FlightNum|TailNum|ActualElapsedTime|CRSElapsedTime|AirTime|ArrDelay|DepDelay|Origin|Dest|Distance|TaxiIn|TaxiOut|Cancelled|CancellationCode|CarrierDelay|WeatherDelay|NASDelay|SecurityDelay|LateAircraftDelay|\n",
      "+---+----+-----+----------+---------+-------+----------+-------+----------+-------------+---------+-------+-----------------+--------------+-------+--------+--------+------+----+--------+------+-------+---------+----------------+------------+------------+--------+-------------+-----------------+\n",
      "|  4|2009|    1|         3|        4|   1829|      1755|   1959|      1925|           WN|     3920| N464WN|               90|            90|     77|      34|      34|   IND| BWI|     515|     3|     10|        0|               N|           2|           0|       0|            0|               32|\n",
      "|  6|2009|    1|         3|        4|   1937|      1830|   2037|      1940|           WN|      509| N763SW|              240|           250|    230|      57|      67|   IND| LAS|    1591|     3|      7|        0|               N|          10|           0|       0|            0|               47|\n",
      "| 11|2009|    1|         3|        4|   1644|      1510|   1845|      1725|           WN|     1333| N334SW|              121|           135|    107|      80|      94|   IND| MCO|     828|     6|      8|        0|               N|           8|           0|       0|            0|               72|\n",
      "| 16|2009|    1|         3|        4|   1452|      1425|   1640|      1625|           WN|      675| N286WN|              228|           240|    213|      15|      27|   IND| PHX|    1489|     7|      8|        0|               N|           3|           0|       0|            0|               12|\n",
      "| 18|2009|    1|         3|        4|   1323|      1255|   1526|      1510|           WN|        4| N674AA|              123|           135|    110|      16|      28|   IND| TPA|     838|     4|      9|        0|               N|           0|           0|       0|            0|               16|\n",
      "| 19|2009|    1|         3|        4|   1416|      1325|   1512|      1435|           WN|       54| N643SW|               56|            70|     49|      37|      51|   ISP| BWI|     220|     2|      5|        0|               N|          12|           0|       0|            0|               25|\n",
      "| 21|2009|    1|         3|        4|   1657|      1625|   1754|      1735|           WN|      623| N724SW|               57|            70|     47|      19|      32|   ISP| BWI|     220|     5|      5|        0|               N|           7|           0|       0|            0|               12|\n",
      "| 26|2009|    1|         3|        4|   1422|      1255|   1657|      1610|           WN|      188| N215WN|              155|           195|    143|      47|      87|   ISP| FLL|    1093|     6|      6|        0|               N|          40|           0|       0|            0|                7|\n",
      "| 30|2009|    1|         3|        4|   2107|      1945|   2334|      2230|           WN|      362| N798SW|              147|           165|    134|      64|      82|   ISP| MCO|     972|     6|      7|        0|               N|           5|           0|       0|            0|               59|\n",
      "| 37|2009|    1|         3|        4|   1812|      1650|   1927|      1815|           WN|      422| N779SW|              135|           145|    118|      72|      82|   ISP| MDW|     765|     6|     11|        0|               N|           3|           0|       0|            0|               69|\n",
      "| 40|2009|    1|         3|        4|   1326|      1230|   1559|      1530|           WN|     1056| N459WN|              153|           180|    143|      29|      56|   ISP| PBI|    1052|     5|      5|        0|               N|           0|           0|       0|            0|               29|\n",
      "| 48|2009|    1|         3|        4|   1450|      1435|   1806|      1745|           WN|     3244| N475WN|              136|           130|    121|      21|      15|   JAN| BWI|     888|     7|      8|        0|               N|           0|           0|       6|            0|               15|\n",
      "| 49|2009|    1|         3|        4|   2245|      1730|   2354|      1850|           WN|      186| N792SW|               69|            80|     59|     304|     315|   JAN| HOU|     359|     3|      7|        0|               N|         282|           0|       0|            0|               22|\n",
      "| 52|2009|    1|         3|        4|   2025|      1940|   2135|      2100|           WN|     3154| N252WN|               70|            80|     60|      35|      45|   JAN| HOU|     359|     3|      7|        0|               N|          26|           0|       0|            0|                9|\n",
      "| 53|2009|    1|         3|        4|   1038|       945|   1314|      1225|           WN|     1035| N346SW|               96|           100|     81|      49|      53|   JAN| MCO|     587|     8|      7|        0|               N|           7|           0|       0|            0|               42|\n",
      "| 54|2009|    1|         3|        4|   1900|      1850|   2123|      2045|           WN|      205| N299WN|              143|           115|     97|      38|      10|   JAN| MDW|     666|    40|      6|        0|               N|           1|           0|      28|            0|                9|\n",
      "| 56|2009|    1|         3|        4|    948|       925|    959|       940|           WN|     3430| N487WN|               71|            75|     59|      19|      23|   JAX| BHM|     365|     3|      9|        0|               N|           0|           0|       0|            0|               19|\n",
      "| 57|2009|    1|         3|        4|    646|       620|    725|       655|           WN|     1580| N243WN|               99|            95|     77|      30|      26|   JAX| BNA|     484|     6|     16|        0|               N|          26|           0|       4|            0|                0|\n",
      "| 58|2009|    1|         3|        4|   1110|      1040|   1136|      1110|           WN|     2195| N479WN|               86|            90|     72|      26|      30|   JAX| BNA|     484|     5|      9|        0|               N|           0|           0|       0|           10|               16|\n",
      "| 70|2009|    1|         3|        4|   1813|      1735|   1936|      1905|           WN|       54| N643SW|              143|           150|    125|      31|      38|   JAX| HOU|     816|     6|     12|        0|               N|          11|           0|       0|            0|               20|\n",
      "+---+----+-----+----------+---------+-------+----------+-------+----------+-------------+---------+-------+-----------------+--------------+-------+--------+--------+------+----+--------+------+-------+---------+----------------+------------+------------+--------+-------------+-----------------+\n",
      "only showing top 20 rows\n",
      "\n",
      "Total data points: 120786\n"
     ]
    }
   ],
   "source": [
    "#show missing values\n",
    "missing_field_df = df.na.drop(subset=\"ArrDelay\")\n",
    "missing_field_df.show()\n",
    "print(\"Total data points:\", missing_field_df.count())"
   ]
  },
  {
   "cell_type": "code",
   "execution_count": 10,
   "metadata": {},
   "outputs": [
    {
     "name": "stdout",
     "output_type": "stream",
     "text": [
      "+---+----+-----+----------+---------+-------+----------+-------+----------+-------------+---------+-------+-----------------+--------------+-------+--------+--------+------+----+--------+------+-------+---------+----------------+------------+------------+--------+-------------+-----------------+\n",
      "| ID|Year|Month|DayofMonth|DayOfWeek|DepTime|CRSDepTime|ArrTime|CRSArrTime|UniqueCarrier|FlightNum|TailNum|ActualElapsedTime|CRSElapsedTime|AirTime|ArrDelay|DepDelay|Origin|Dest|Distance|TaxiIn|TaxiOut|Cancelled|CancellationCode|CarrierDelay|WeatherDelay|NASDelay|SecurityDelay|LateAircraftDelay|\n",
      "+---+----+-----+----------+---------+-------+----------+-------+----------+-------------+---------+-------+-----------------+--------------+-------+--------+--------+------+----+--------+------+-------+---------+----------------+------------+------------+--------+-------------+-----------------+\n",
      "|  4|2009|    1|         3|        4|   1829|      1755|   1959|      1925|           WN|     3920| N464WN|               90|            90|     77|      34|      34|   IND| BWI|     515|     3|     10|        0|               N|           2|           0|       0|            0|               32|\n",
      "|  6|2009|    1|         3|        4|   1937|      1830|   2037|      1940|           WN|      509| N763SW|              240|           250|    230|      57|      67|   IND| LAS|    1591|     3|      7|        0|               N|          10|           0|       0|            0|               47|\n",
      "| 11|2009|    1|         3|        4|   1644|      1510|   1845|      1725|           WN|     1333| N334SW|              121|           135|    107|      80|      94|   IND| MCO|     828|     6|      8|        0|               N|           8|           0|       0|            0|               72|\n",
      "| 16|2009|    1|         3|        4|   1452|      1425|   1640|      1625|           WN|      675| N286WN|              228|           240|    213|      15|      27|   IND| PHX|    1489|     7|      8|        0|               N|           3|           0|       0|            0|               12|\n",
      "| 18|2009|    1|         3|        4|   1323|      1255|   1526|      1510|           WN|        4| N674AA|              123|           135|    110|      16|      28|   IND| TPA|     838|     4|      9|        0|               N|           0|           0|       0|            0|               16|\n",
      "| 19|2009|    1|         3|        4|   1416|      1325|   1512|      1435|           WN|       54| N643SW|               56|            70|     49|      37|      51|   ISP| BWI|     220|     2|      5|        0|               N|          12|           0|       0|            0|               25|\n",
      "| 21|2009|    1|         3|        4|   1657|      1625|   1754|      1735|           WN|      623| N724SW|               57|            70|     47|      19|      32|   ISP| BWI|     220|     5|      5|        0|               N|           7|           0|       0|            0|               12|\n",
      "| 26|2009|    1|         3|        4|   1422|      1255|   1657|      1610|           WN|      188| N215WN|              155|           195|    143|      47|      87|   ISP| FLL|    1093|     6|      6|        0|               N|          40|           0|       0|            0|                7|\n",
      "| 30|2009|    1|         3|        4|   2107|      1945|   2334|      2230|           WN|      362| N798SW|              147|           165|    134|      64|      82|   ISP| MCO|     972|     6|      7|        0|               N|           5|           0|       0|            0|               59|\n",
      "| 37|2009|    1|         3|        4|   1812|      1650|   1927|      1815|           WN|      422| N779SW|              135|           145|    118|      72|      82|   ISP| MDW|     765|     6|     11|        0|               N|           3|           0|       0|            0|               69|\n",
      "| 40|2009|    1|         3|        4|   1326|      1230|   1559|      1530|           WN|     1056| N459WN|              153|           180|    143|      29|      56|   ISP| PBI|    1052|     5|      5|        0|               N|           0|           0|       0|            0|               29|\n",
      "| 48|2009|    1|         3|        4|   1450|      1435|   1806|      1745|           WN|     3244| N475WN|              136|           130|    121|      21|      15|   JAN| BWI|     888|     7|      8|        0|               N|           0|           0|       6|            0|               15|\n",
      "| 49|2009|    1|         3|        4|   2245|      1730|   2354|      1850|           WN|      186| N792SW|               69|            80|     59|     304|     315|   JAN| HOU|     359|     3|      7|        0|               N|         282|           0|       0|            0|               22|\n",
      "| 52|2009|    1|         3|        4|   2025|      1940|   2135|      2100|           WN|     3154| N252WN|               70|            80|     60|      35|      45|   JAN| HOU|     359|     3|      7|        0|               N|          26|           0|       0|            0|                9|\n",
      "| 53|2009|    1|         3|        4|   1038|       945|   1314|      1225|           WN|     1035| N346SW|               96|           100|     81|      49|      53|   JAN| MCO|     587|     8|      7|        0|               N|           7|           0|       0|            0|               42|\n",
      "| 54|2009|    1|         3|        4|   1900|      1850|   2123|      2045|           WN|      205| N299WN|              143|           115|     97|      38|      10|   JAN| MDW|     666|    40|      6|        0|               N|           1|           0|      28|            0|                9|\n",
      "| 56|2009|    1|         3|        4|    948|       925|    959|       940|           WN|     3430| N487WN|               71|            75|     59|      19|      23|   JAX| BHM|     365|     3|      9|        0|               N|           0|           0|       0|            0|               19|\n",
      "| 57|2009|    1|         3|        4|    646|       620|    725|       655|           WN|     1580| N243WN|               99|            95|     77|      30|      26|   JAX| BNA|     484|     6|     16|        0|               N|          26|           0|       4|            0|                0|\n",
      "| 58|2009|    1|         3|        4|   1110|      1040|   1136|      1110|           WN|     2195| N479WN|               86|            90|     72|      26|      30|   JAX| BNA|     484|     5|      9|        0|               N|           0|           0|       0|           10|               16|\n",
      "| 70|2009|    1|         3|        4|   1813|      1735|   1936|      1905|           WN|       54| N643SW|              143|           150|    125|      31|      38|   JAX| HOU|     816|     6|     12|        0|               N|          11|           0|       0|            0|               20|\n",
      "+---+----+-----+----------+---------+-------+----------+-------+----------+-------------+---------+-------+-----------------+--------------+-------+--------+--------+------+----+--------+------+-------+---------+----------------+------------+------------+--------+-------------+-----------------+\n",
      "only showing top 20 rows\n",
      "\n"
     ]
    }
   ],
   "source": [
    "df.show()"
   ]
  },
  {
   "cell_type": "code",
   "execution_count": 11,
   "metadata": {},
   "outputs": [
    {
     "data": {
      "text/plain": [
       "['ID',\n",
       " 'Month',\n",
       " 'DayofMonth',\n",
       " 'DepTime',\n",
       " 'CRSDepTime',\n",
       " 'ArrTime',\n",
       " 'CRSArrTime',\n",
       " 'UniqueCarrier',\n",
       " 'FlightNum',\n",
       " 'TailNum',\n",
       " 'ActualElapsedTime',\n",
       " 'CRSElapsedTime',\n",
       " 'AirTime',\n",
       " 'ArrDelay',\n",
       " 'DepDelay',\n",
       " 'Origin',\n",
       " 'Dest',\n",
       " 'Distance',\n",
       " 'TaxiIn',\n",
       " 'TaxiOut',\n",
       " 'Cancelled',\n",
       " 'CancellationCode',\n",
       " 'CarrierDelay',\n",
       " 'WeatherDelay',\n",
       " 'NASDelay',\n",
       " 'SecurityDelay',\n",
       " 'LateAircraftDelay']"
      ]
     },
     "execution_count": 11,
     "metadata": {},
     "output_type": "execute_result"
    }
   ],
   "source": [
    "df.drop('Year', 'DayOfWeek').columns"
   ]
  },
  {
   "cell_type": "code",
   "execution_count": 12,
   "metadata": {},
   "outputs": [
    {
     "data": {
      "text/plain": [
       "0.9505318931721426"
      ]
     },
     "execution_count": 12,
     "metadata": {},
     "output_type": "execute_result"
    }
   ],
   "source": [
    "#Check the correlation of the target variable to other attribute before drop columns\n",
    "df.corr('ArrDelay','DepDelay') "
   ]
  },
  {
   "cell_type": "code",
   "execution_count": 13,
   "metadata": {},
   "outputs": [
    {
     "data": {
      "text/plain": [
       "-0.002257089952414316"
      ]
     },
     "execution_count": 13,
     "metadata": {},
     "output_type": "execute_result"
    }
   ],
   "source": [
    "#Check the correlation of the target variable to other attribute before drop columns\n",
    "df.corr('ArrDelay','CRSDepTime')"
   ]
  },
  {
   "cell_type": "code",
   "execution_count": 14,
   "metadata": {},
   "outputs": [
    {
     "data": {
      "text/plain": [
       "-0.05534385970617289"
      ]
     },
     "execution_count": 14,
     "metadata": {},
     "output_type": "execute_result"
    }
   ],
   "source": [
    "#Check the correlation of the target variable to other attribute before drop columns\n",
    "df.corr('ArrDelay','ArrTime')"
   ]
  },
  {
   "cell_type": "code",
   "execution_count": 15,
   "metadata": {},
   "outputs": [
    {
     "data": {
      "text/plain": [
       "0.002199466922143343"
      ]
     },
     "execution_count": 15,
     "metadata": {},
     "output_type": "execute_result"
    }
   ],
   "source": [
    "#Check the correlation of the target variable to other attribute before drop columns\n",
    "df.corr('ArrDelay','CRSArrTime')"
   ]
  },
  {
   "cell_type": "code",
   "execution_count": 16,
   "metadata": {},
   "outputs": [
    {
     "data": {
      "text/plain": [
       "-0.007810004884905126"
      ]
     },
     "execution_count": 16,
     "metadata": {},
     "output_type": "execute_result"
    }
   ],
   "source": [
    "#Check the correlation of the target variable to other attribute before drop columns\n",
    "df.corr('ArrDelay','Distance')"
   ]
  },
  {
   "cell_type": "code",
   "execution_count": 17,
   "metadata": {},
   "outputs": [
    {
     "data": {
      "text/plain": [
       "0.11141265968747364"
      ]
     },
     "execution_count": 17,
     "metadata": {},
     "output_type": "execute_result"
    }
   ],
   "source": [
    "#Check the correlation of the target variable to other attribute before drop columns\n",
    "df.corr('ArrDelay','TaxiIn')"
   ]
  },
  {
   "cell_type": "code",
   "execution_count": 18,
   "metadata": {},
   "outputs": [
    {
     "data": {
      "text/plain": [
       "0.2156991358388225"
      ]
     },
     "execution_count": 18,
     "metadata": {},
     "output_type": "execute_result"
    }
   ],
   "source": [
    "#Check the correlation of the target variable to other attribute before drop columns\n",
    "df.corr('ArrDelay','TaxiOut')"
   ]
  },
  {
   "cell_type": "code",
   "execution_count": 19,
   "metadata": {},
   "outputs": [
    {
     "data": {
      "text/plain": [
       "0.4707952617620207"
      ]
     },
     "execution_count": 19,
     "metadata": {},
     "output_type": "execute_result"
    }
   ],
   "source": [
    "#Check the correlation of the target variable to other attribute before drop columns\n",
    "df.corr('ArrDelay','LateAircraftDelay')"
   ]
  },
  {
   "cell_type": "code",
   "execution_count": 20,
   "metadata": {},
   "outputs": [
    {
     "data": {
      "text/plain": [
       "0.4800987528907703"
      ]
     },
     "execution_count": 20,
     "metadata": {},
     "output_type": "execute_result"
    }
   ],
   "source": [
    "#Check the correlation of the target variable to other attribute before drop columns\n",
    "df.corr('ArrDelay','CarrierDelay')"
   ]
  },
  {
   "cell_type": "code",
   "execution_count": 21,
   "metadata": {},
   "outputs": [
    {
     "data": {
      "text/plain": [
       "-0.018459380613213956"
      ]
     },
     "execution_count": 21,
     "metadata": {},
     "output_type": "execute_result"
    }
   ],
   "source": [
    "df.corr('ArrDelay','SecurityDelay')\n",
    "#Check the correlation of the target variable to other attribute before drop columns"
   ]
  },
  {
   "cell_type": "code",
   "execution_count": 22,
   "metadata": {},
   "outputs": [
    {
     "data": {
      "text/plain": [
       "0.3947852811208922"
      ]
     },
     "execution_count": 22,
     "metadata": {},
     "output_type": "execute_result"
    }
   ],
   "source": [
    "df.corr('ArrDelay','NASDelay')"
   ]
  },
  {
   "cell_type": "code",
   "execution_count": 23,
   "metadata": {},
   "outputs": [
    {
     "data": {
      "text/plain": [
       "0.2683846406249515"
      ]
     },
     "execution_count": 23,
     "metadata": {},
     "output_type": "execute_result"
    }
   ],
   "source": [
    "df.corr('ArrDelay','WeatherDelay')"
   ]
  },
  {
   "cell_type": "code",
   "execution_count": 24,
   "metadata": {},
   "outputs": [
    {
     "data": {
      "text/plain": [
       "0.005878478774603247"
      ]
     },
     "execution_count": 24,
     "metadata": {},
     "output_type": "execute_result"
    }
   ],
   "source": [
    "df.corr('ArrDelay','AirTime')"
   ]
  },
  {
   "cell_type": "code",
   "execution_count": 25,
   "metadata": {},
   "outputs": [
    {
     "data": {
      "text/plain": [
       "120786"
      ]
     },
     "execution_count": 25,
     "metadata": {},
     "output_type": "execute_result"
    }
   ],
   "source": [
    "df.count()#count number of rows"
   ]
  },
  {
   "cell_type": "code",
   "execution_count": 26,
   "metadata": {},
   "outputs": [
    {
     "data": {
      "text/plain": [
       "(29,\n",
       " ['ID',\n",
       "  'Year',\n",
       "  'Month',\n",
       "  'DayofMonth',\n",
       "  'DayOfWeek',\n",
       "  'DepTime',\n",
       "  'CRSDepTime',\n",
       "  'ArrTime',\n",
       "  'CRSArrTime',\n",
       "  'UniqueCarrier',\n",
       "  'FlightNum',\n",
       "  'TailNum',\n",
       "  'ActualElapsedTime',\n",
       "  'CRSElapsedTime',\n",
       "  'AirTime',\n",
       "  'ArrDelay',\n",
       "  'DepDelay',\n",
       "  'Origin',\n",
       "  'Dest',\n",
       "  'Distance',\n",
       "  'TaxiIn',\n",
       "  'TaxiOut',\n",
       "  'Cancelled',\n",
       "  'CancellationCode',\n",
       "  'CarrierDelay',\n",
       "  'WeatherDelay',\n",
       "  'NASDelay',\n",
       "  'SecurityDelay',\n",
       "  'LateAircraftDelay'])"
      ]
     },
     "execution_count": 26,
     "metadata": {},
     "output_type": "execute_result"
    }
   ],
   "source": [
    "len(df.columns), df.columns#count number of columns"
   ]
  },
  {
   "cell_type": "code",
   "execution_count": 27,
   "metadata": {
    "scrolled": true
   },
   "outputs": [],
   "source": [
    "df= df.drop('ID','Year', 'Month', 'DayofMonth','DayOfWeek', 'CRSArrTime',\n",
    "          'UniqueCarrier','TailNum','ActualElapsedTime','CRSElapsedTime',\n",
    "            'CancellationCode','Cancelled', 'Origin','Dest').columns"
   ]
  },
  {
   "cell_type": "code",
   "execution_count": 28,
   "metadata": {},
   "outputs": [
    {
     "ename": "AttributeError",
     "evalue": "'list' object has no attribute 'na'",
     "output_type": "error",
     "traceback": [
      "\u001b[0;31m---------------------------------------------------------------------------\u001b[0m",
      "\u001b[0;31mAttributeError\u001b[0m                            Traceback (most recent call last)",
      "\u001b[0;32m<ipython-input-28-2f3232d652e5>\u001b[0m in \u001b[0;36m<module>\u001b[0;34m()\u001b[0m\n\u001b[1;32m      1\u001b[0m \u001b[0;31m# 'na' stands for Not Available. Using na, we can then use drop.\u001b[0m\u001b[0;34m\u001b[0m\u001b[0;34m\u001b[0m\u001b[0m\n\u001b[0;32m----> 2\u001b[0;31m \u001b[0mdf\u001b[0m\u001b[0;34m.\u001b[0m\u001b[0mna\u001b[0m\u001b[0;34m.\u001b[0m\u001b[0mdrop\u001b[0m\u001b[0;34m(\u001b[0m\u001b[0;34m)\u001b[0m\u001b[0;34m\u001b[0m\u001b[0m\n\u001b[0m\u001b[1;32m      3\u001b[0m \u001b[0;34m\u001b[0m\u001b[0m\n\u001b[1;32m      4\u001b[0m \u001b[0;31m# Let's see how many rows of data we have now.\u001b[0m\u001b[0;34m\u001b[0m\u001b[0;34m\u001b[0m\u001b[0m\n\u001b[1;32m      5\u001b[0m \u001b[0mprint\u001b[0m\u001b[0;34m(\u001b[0m\u001b[0;34m\"Total data points:\"\u001b[0m\u001b[0;34m,\u001b[0m \u001b[0mdf\u001b[0m\u001b[0;34m.\u001b[0m\u001b[0mcount\u001b[0m\u001b[0;34m(\u001b[0m\u001b[0;34m)\u001b[0m\u001b[0;34m)\u001b[0m\u001b[0;34m\u001b[0m\u001b[0m\n",
      "\u001b[0;31mAttributeError\u001b[0m: 'list' object has no attribute 'na'"
     ]
    }
   ],
   "source": [
    "# 'na' stands for Not Available. Using na, we can then use drop.  \n",
    "df.na.drop()\n",
    "\n",
    "# Let's see how many rows of data we have now. \n",
    "print(\"Total data points:\", df.count())"
   ]
  },
  {
   "cell_type": "code",
   "execution_count": null,
   "metadata": {},
   "outputs": [],
   "source": [
    "df = len(df.columns), df.columns"
   ]
  },
  {
   "cell_type": "markdown",
   "metadata": {},
   "source": [
    "### Data Mining Model"
   ]
  },
  {
   "cell_type": "code",
   "execution_count": null,
   "metadata": {},
   "outputs": [],
   "source": [
    "from pyspark.ml.feature import VectorAssembler"
   ]
  },
  {
   "cell_type": "code",
   "execution_count": null,
   "metadata": {},
   "outputs": [],
   "source": [
    "import pandas as pd\n",
    "df.describe().toPandas().transpose()"
   ]
  },
  {
   "cell_type": "code",
   "execution_count": null,
   "metadata": {},
   "outputs": [],
   "source": [
    "from pyspark.ml.feature import VectorAssembler\n",
    "vector_assembler = VectorAssembler(inputCols= ['ArrDelay','DepDelay', 'NASDelay', 'LateAircraftDelay', \n",
    "                                               'CarrierDelay','TaxiOut','WeatherDelay', 'TaxiIn', 'Distance', \n",
    "                                               'SecurityDelay', 'ArrTime'], outputCol = 'features')\n",
    "vector_output = vector_assembler.transform(df)\n",
    "#vector_output.printSchema()"
   ]
  },
  {
   "cell_type": "code",
   "execution_count": null,
   "metadata": {},
   "outputs": [],
   "source": [
    "vector_output = vector_output.select('features', 'ArrDelay')\n",
    "#print(vector_output.head())\n",
    "vector_output.printSchema()"
   ]
  },
  {
   "cell_type": "code",
   "execution_count": null,
   "metadata": {},
   "outputs": [],
   "source": [
    "df = vector_output.show(10)"
   ]
  },
  {
   "cell_type": "code",
   "execution_count": null,
   "metadata": {},
   "outputs": [],
   "source": [
    "train_data,test_Data = vector_output.randomSplit([0.7,0.3])\n"
   ]
  },
  {
   "cell_type": "code",
   "execution_count": null,
   "metadata": {},
   "outputs": [],
   "source": [
    "train_data.describe().show()"
   ]
  },
  {
   "cell_type": "code",
   "execution_count": null,
   "metadata": {},
   "outputs": [],
   "source": [
    "test_Data.describe().show()"
   ]
  },
  {
   "cell_type": "code",
   "execution_count": null,
   "metadata": {},
   "outputs": [],
   "source": [
    "\n",
    "from pyspark.ml.regression import LinearRegression\n",
    "lr = LinearRegression(featuresCol='features', labelCol='ArrDelay')\n",
    "lr_model = lr.fit(train_data)\n",
    "print(\"Coefficients: \" + str(lr_model.coefficients))\n",
    "print(\"Intercept: \" + str(lr_model.intercept) + \"\\n\")\n",
    "training_summary = lr_model.summary\n",
    "print(\"RMSE: \" + str(training_summary.rootMeanSquaredError))\n",
    "print(\"R2: \" + str(training_summary.r2))"
   ]
  },
  {
   "cell_type": "code",
   "execution_count": null,
   "metadata": {},
   "outputs": [],
   "source": [
    "train_data.describe().show()"
   ]
  },
  {
   "cell_type": "code",
   "execution_count": null,
   "metadata": {},
   "outputs": [],
   "source": [
    "# Let's evaluate the model against the test data.\n",
    "test_results = lr_model.evaluate(test_Data)\n",
    "\n",
    "# And print the RMSE/R2. As expected, our RMSE and R2 are slightly worse when applying the testing set.\n",
    "print(\"RMSE on test data: \" + str(test_results.rootMeanSquaredError))\n",
    "print(\"R2 on test data: \" + str(test_results.r2))"
   ]
  },
  {
   "cell_type": "code",
   "execution_count": null,
   "metadata": {},
   "outputs": [],
   "source": []
  }
 ],
 "metadata": {
  "kernelspec": {
   "display_name": "Python 3",
   "language": "python",
   "name": "python3"
  },
  "language_info": {
   "codemirror_mode": {
    "name": "ipython",
    "version": 3
   },
   "file_extension": ".py",
   "mimetype": "text/x-python",
   "name": "python",
   "nbconvert_exporter": "python",
   "pygments_lexer": "ipython3",
   "version": "3.5.2"
  }
 },
 "nbformat": 4,
 "nbformat_minor": 2
}
