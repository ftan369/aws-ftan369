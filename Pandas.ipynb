{
 "cells": [
  {
   "cell_type": "code",
   "execution_count": null,
   "metadata": {
    "scrolled": true
   },
   "outputs": [],
   "source": [
    "# The packages needed for this project of prediting flight delays\n",
    "#from pyspark.sql import SQLContext\n",
    "import pandas as pd\n",
    "import numpy as np\n",
    "#import pyspark.sql as sparksql\n",
    "import findspark\n",
    "findspark.init('/home/ubuntu/spark-2.1.1-bin-hadoop2.7')\n",
    "import pyspark\n",
    "import seaborn as sns\n",
    "import matplotlib.pyplot as plt\n",
    "%matplotlib inline\n",
    "from pyspark.sql.functions import isnan\n",
    "from pyspark.sql.functions import col, sum\n",
    "from pyspark.sql import SparkSession\n",
    "spark = SparkSession.builder.appName('basics').getOrCreate()\n",
    "import sys\n",
    "pd.options.display.float_format = '{:.0f}'.format"
   ]
  },
  {
   "cell_type": "code",
   "execution_count": null,
   "metadata": {},
   "outputs": [],
   "source": [
    "# This is read the data from csv and create a data frame\n",
    "df = pd.read_csv('DelayedFlight.csv')"
   ]
  },
  {
   "cell_type": "code",
   "execution_count": null,
   "metadata": {
    "scrolled": true
   },
   "outputs": [],
   "source": [
    "df"
   ]
  },
  {
   "cell_type": "code",
   "execution_count": null,
   "metadata": {},
   "outputs": [],
   "source": [
    "#first five rows of the dataset\n",
    "df.head()"
   ]
  },
  {
   "cell_type": "code",
   "execution_count": null,
   "metadata": {
    "scrolled": true
   },
   "outputs": [],
   "source": [
    "#last 5 rows of the dataset\n",
    "df.tail()"
   ]
  },
  {
   "cell_type": "code",
   "execution_count": null,
   "metadata": {
    "scrolled": true
   },
   "outputs": [],
   "source": [
    "#give some information on columns types and number of null values\n",
    "print('Dataframe dimensions:', df.shape)\n",
    "#tab_info=pd.DataFrame(df.dtypes).T.rename(index={0:'column type'})\n",
    "#tab_info=tab_info.append(pd.DataFrame(df.isnull().sum()).T.rename(index={0:'null values (nb)'}))\n",
    "#tab_info=tab_info.append(pd.DataFrame(df.isnull().sum()/df.shape[0]*100)\n",
    "                         .T.rename(index={0:'null values (%)'}))\n",
    "#tab_info"
   ]
  },
  {
   "cell_type": "code",
   "execution_count": null,
   "metadata": {
    "scrolled": true
   },
   "outputs": [],
   "source": [
    "#This shows the correlations of the variables target Variables is ÄrrDelay\"\"\n",
    "df.corr()\n"
   ]
  },
  {
   "cell_type": "code",
   "execution_count": null,
   "metadata": {
    "scrolled": true
   },
   "outputs": [],
   "source": [
    "print (df.info()) #data set info"
   ]
  },
  {
   "cell_type": "code",
   "execution_count": null,
   "metadata": {},
   "outputs": [],
   "source": [
    "#get the total number of missing values in dataframe\n",
    "print(df.isnull().sum())"
   ]
  },
  {
   "cell_type": "code",
   "execution_count": null,
   "metadata": {},
   "outputs": [],
   "source": [
    "df.shape"
   ]
  },
  {
   "cell_type": "code",
   "execution_count": null,
   "metadata": {
    "scrolled": true
   },
   "outputs": [],
   "source": [
    "#causes of delay\n",
    "grouped = df[['ArrDelay','CarrierDelay', \n",
    "        'WeatherDelay', 'NASDelay', 'SecurityDelay', 'LateAircraftDelay']].groupby('ArrDelay').mean()\n",
    "grouped.plot(kind='hist')"
   ]
  },
  {
   "cell_type": "code",
   "execution_count": null,
   "metadata": {},
   "outputs": [],
   "source": [
    "#causes of delay\n",
    "grouped = df[['ArrDelay','UniqueCarrier']].groupby('UniqueCarrier').count()\n",
    "grouped.plot(kind='hist')"
   ]
  },
  {
   "cell_type": "code",
   "execution_count": null,
   "metadata": {},
   "outputs": [],
   "source": [
    "#causes of delay by month\n",
    "grouped = df[['ArrDelay','Month']].groupby('Month').count()\n",
    "grouped.plot(kind='bar')"
   ]
  },
  {
   "cell_type": "code",
   "execution_count": null,
   "metadata": {},
   "outputs": [],
   "source": [
    "# Compute average number of delayed flights by hour\n",
    "df['hour'] = df['CRSDepTime'].map(lambda x: int(str(int(x)).zfill(4)[:2]))\n",
    "grouped = df[['ArrDelay', 'hour']].groupby('hour').mean()\n",
    "\n",
    "# plot average delays by hour of day\n",
    "grouped.plot(kind='bar')"
   ]
  },
  {
   "cell_type": "code",
   "execution_count": null,
   "metadata": {
    "scrolled": false
   },
   "outputs": [],
   "source": [
    "# Compute average number of delayed flights per carrier\n",
    "grouped1 = df[['ArrDelay', 'UniqueCarrier']].groupby('UniqueCarrier').filter(lambda x: len(x)>10)\n",
    "grouped2 = grouped1.groupby('UniqueCarrier').mean()\n",
    "UniqueCarrier = grouped2.sort_values(['ArrDelay'], ascending=False)\n",
    "\n",
    "# display top 15 destination carriers by delay (from ORD)\n",
    "UniqueCarrier[:15].plot(kind='bar')"
   ]
  },
  {
   "cell_type": "code",
   "execution_count": null,
   "metadata": {},
   "outputs": [],
   "source": [
    "# Compute average number of delayed flights per carrier\n",
    "grouped1 = df[['ArrDelay', 'Dest']].groupby('Dest').filter(lambda x: len(x)>10)\n",
    "grouped2 = grouped1.groupby('Dest').mean()\n",
    "Dest = grouped2.sort_values(['ArrDelay'], ascending=False)\n",
    "\n",
    "# display top 15 destination carriers by delay (from ORD)\n",
    "Dest[:15].plot(kind='bar')"
   ]
  },
  {
   "cell_type": "code",
   "execution_count": null,
   "metadata": {},
   "outputs": [],
   "source": [
    "print (\"ratio = \", str( (70882*1.0) / (362416+70882) )) #show the ratio"
   ]
  },
  {
   "cell_type": "code",
   "execution_count": null,
   "metadata": {},
   "outputs": [],
   "source": [
    "#unique carrier vs dep delay time - shows which carrier got highest departure time\n",
    "sns.set_style('whitegrid')\n",
    "carrier_order = np.unique(list(df['UniqueCarrier']))\n",
    "sns.barplot(x='UniqueCarrier',y ='DepDelay', data=df, color = \"green\" , order = carrier_order)\n",
    "fig = plt.title(\"Carrier Vs Dep Delay\")"
   ]
  },
  {
   "cell_type": "code",
   "execution_count": null,
   "metadata": {},
   "outputs": [],
   "source": [
    "for i in df.columns:\n",
    "    print (i, df[i].nunique())\n",
    "    #show the type of interger data fields"
   ]
  },
  {
   "cell_type": "code",
   "execution_count": null,
   "metadata": {},
   "outputs": [],
   "source": []
  },
  {
   "cell_type": "code",
   "execution_count": null,
   "metadata": {},
   "outputs": [],
   "source": [
    "print (\"ratio = \", str( (70882*1.0) / (362416+70882) )) #show the ratio"
   ]
  },
  {
   "cell_type": "code",
   "execution_count": null,
   "metadata": {},
   "outputs": [],
   "source": [
    "#unique carrier vs dep delay time - shows which carrier got highest departure time\n",
    "sns.set_style('whitegrid')\n",
    "carrier_order = np.unique(list(df['UniqueCarrier']))\n",
    "sns.barplot(x='UniqueCarrier',y ='DepDelay', data=df, color = \"green\" , order = carrier_order)\n",
    "fig = plt.title(\"Carrier Vs Dep Delay\")"
   ]
  },
  {
   "cell_type": "code",
   "execution_count": null,
   "metadata": {
    "scrolled": true
   },
   "outputs": [],
   "source": [
    "# dropping columns which do not hold any useful data and columns that contain repeated information\n",
    "df_clean = df.drop = ['ID', 'Year', 'Month', 'DayOfMonth' 'DayOfWeek',\n",
    "                      'DepTime', 'ArrTime' 'CRSDepTime', 'CRSArrTime', 'UniqueCarrier',\n",
    "                       'TailNum', 'ActualElapsedTime', 'CRSElapsedTime', \n",
    "                     'Origin', 'Cancelled','CancellationCode']\n",
    "#df.drop(variables_to_remove, axis = 1)\n",
    "#df = df[['ArrDelay','DepDelay', 'CarrierDelay','LateAircraftDelay',\n",
    " #       'NASDelay','TaxiOut', 'WeatherDelay', 'TaxiIn', 'FlightNum', \n",
    "  #       'AirTime', 'Distance', 'SecurityDelay','Dest']]\n"
   ]
  },
  {
   "cell_type": "code",
   "execution_count": null,
   "metadata": {},
   "outputs": [],
   "source": [
    "missing_df = df.isnull().sum(axis=0).reset_index()\n",
    "missing_df.columns = ['variable', 'missing values']\n",
    "missing_df['filling factor (%)']=(df.shape[0]-missing_df['missing values'])/df.shape[0]*100\n",
    "missing_df.sort_values('filling factor (%)').reset_index(drop = True)"
   ]
  },
  {
   "cell_type": "code",
   "execution_count": null,
   "metadata": {
    "scrolled": false
   },
   "outputs": [],
   "source": [
    "#get the total number of missing values in dataframe\n",
    "df.shape"
   ]
  },
  {
   "cell_type": "code",
   "execution_count": null,
   "metadata": {},
   "outputs": [],
   "source": []
  },
  {
   "cell_type": "code",
   "execution_count": null,
   "metadata": {},
   "outputs": [],
   "source": []
  },
  {
   "cell_type": "code",
   "execution_count": null,
   "metadata": {},
   "outputs": [],
   "source": []
  },
  {
   "cell_type": "code",
   "execution_count": null,
   "metadata": {},
   "outputs": [],
   "source": [
    "\n"
   ]
  },
  {
   "cell_type": "code",
   "execution_count": null,
   "metadata": {},
   "outputs": [],
   "source": []
  }
 ],
 "metadata": {
  "kernelspec": {
   "display_name": "Python 3",
   "language": "python",
   "name": "python3"
  },
  "language_info": {
   "codemirror_mode": {
    "name": "ipython",
    "version": 3
   },
   "file_extension": ".py",
   "mimetype": "text/x-python",
   "name": "python",
   "nbconvert_exporter": "python",
   "pygments_lexer": "ipython3",
   "version": "3.5.2"
  }
 },
 "nbformat": 4,
 "nbformat_minor": 2
}
